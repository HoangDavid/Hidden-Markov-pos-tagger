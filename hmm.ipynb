{
 "cells": [
  {
   "cell_type": "code",
   "execution_count": 19,
   "metadata": {},
   "outputs": [],
   "source": [
    "import numpy as np\n",
    "import time\n",
    "import re\n",
    "import postagging as post"
   ]
  },
  {
   "cell_type": "code",
   "execution_count": 20,
   "metadata": {},
   "outputs": [
    {
     "name": "stdout",
     "output_type": "stream",
     "text": [
      "Transition matrix:\n",
      " [[2.04557907e-02 3.28449378e-01 1.49725024e-01 ... 1.01467216e-05\n",
      "  1.01467216e-05 2.02934432e-05]\n",
      " [9.68940153e-03 1.58842648e-03 1.10542264e-01 ... 0.00000000e+00\n",
      "  2.44373305e-05 0.00000000e+00]\n",
      " [4.06271183e-02 2.61299281e-03 3.77495463e-01 ... 0.00000000e+00\n",
      "  0.00000000e+00 0.00000000e+00]\n",
      " ...\n",
      " [0.00000000e+00 0.00000000e+00 0.00000000e+00 ... 0.00000000e+00\n",
      "  0.00000000e+00 0.00000000e+00]\n",
      " [1.03092784e-02 0.00000000e+00 0.00000000e+00 ... 0.00000000e+00\n",
      "  3.09278351e-02 0.00000000e+00]\n",
      " [0.00000000e+00 0.00000000e+00 6.54761905e-02 ... 0.00000000e+00\n",
      "  0.00000000e+00 0.00000000e+00]]\n",
      "\n",
      "Emission matrix:\n",
      " [[1.69419810e-01 0.00000000e+00 0.00000000e+00 ... 0.00000000e+00\n",
      "  0.00000000e+00 0.00000000e+00]\n",
      " [0.00000000e+00 4.01871900e-02 0.00000000e+00 ... 0.00000000e+00\n",
      "  0.00000000e+00 0.00000000e+00]\n",
      " [3.27990729e-05 1.09330243e-05 3.46576870e-03 ... 1.09330243e-05\n",
      "  0.00000000e+00 0.00000000e+00]\n",
      " ...\n",
      " [0.00000000e+00 0.00000000e+00 0.00000000e+00 ... 0.00000000e+00\n",
      "  0.00000000e+00 0.00000000e+00]\n",
      " [0.00000000e+00 0.00000000e+00 0.00000000e+00 ... 0.00000000e+00\n",
      "  0.00000000e+00 0.00000000e+00]\n",
      " [0.00000000e+00 0.00000000e+00 0.00000000e+00 ... 0.00000000e+00\n",
      "  0.00000000e+00 0.00000000e+00]]\n",
      "\n"
     ]
    }
   ],
   "source": [
    "# start the timer\n",
    "start_time = time.time()\n",
    "\n",
    "# Training the model\n",
    "transition_count, emission_count, tag_count, word_count, f_tag_counter, f_tag_total = post.process_file('data/WSJ_02-21.pos')\n",
    "trans_mx, tag_to_idx = post.transition_matrix(transition_count, tag_count)\n",
    "emiss_mx, word_to_idx = post.emission_matrix(emission_count, tag_count, word_count)\n",
    "\n",
    "# display the transmission matrix\n",
    "print(f'Transition matrix:\\n {trans_mx}\\n')\n",
    "#display the emssion matrix\n",
    "print(f'Emission matrix:\\n {emiss_mx}\\n')"
   ]
  },
  {
   "cell_type": "code",
   "execution_count": 21,
   "metadata": {},
   "outputs": [
    {
     "name": "stdout",
     "output_type": "stream",
     "text": [
      "Accuracy:0.9364137217301312; # Correct: 30764; # Incorrect:2089; Total: 32853\n",
      "\n",
      "--- 29.996575117111206 seconds ---\n"
     ]
    }
   ],
   "source": [
    "# Get the initial probability\n",
    "init_prob = post.init(tag_count, f_tag_counter, f_tag_total)\n",
    "\n",
    "# Test for accuracy\n",
    "print(post.test('data/WSJ_24.pos',trans_mx, emiss_mx, tag_count, tag_to_idx, word_to_idx, init_prob))\n",
    "\n",
    "# Show the total time \n",
    "print()\n",
    "print(\"--- %s seconds ---\" % (time.time() - start_time))"
   ]
  },
  {
   "cell_type": "code",
   "execution_count": 22,
   "metadata": {},
   "outputs": [
    {
     "name": "stdout",
     "output_type": "stream",
     "text": [
      "simple sample: The quick brown fox jumps over the lazy dog.\n",
      "output: ['DT', 'JJ', 'NNP', 'NNP', 'VBZ', 'IN', 'DT', 'JJ', 'NN', '.']\n",
      "\n",
      "complex sample: Despite the heavy rain, the determined marathon runners continued their race through the winding streets of the historic city, undeterred by the challenging weather conditions.\n",
      "output: ['IN', 'DT', 'JJ', 'NN', ',', 'DT', 'VBN', 'NNP', 'NNS', 'VBD', 'PRP$', 'NN', 'IN', 'DT', 'VBG', 'NNS', 'IN', 'DT', 'JJ', 'NN', ',', 'JJ', 'IN', 'DT', 'JJ', 'NN', 'NNS', '.']\n"
     ]
    }
   ],
   "source": [
    "# Testing a sentence\n",
    "simple_sentence = 'The quick brown fox jumps over the lazy dog.'\n",
    "obs_simple = re.findall(r'\\w+|[^\\w\\s]', simple_sentence)\n",
    "\n",
    "\n",
    "complex_sentence = \"Despite the heavy rain, the determined marathon runners continued their race through the winding streets of the historic city, undeterred by the challenging weather conditions.\"\n",
    "obs_complex = re.findall(r'\\w+|[^\\w\\s]', complex_sentence)\n",
    "\n",
    "\n",
    "# Get the most probable sequence\n",
    "path = post.viterbi(trans_mx, emiss_mx, tag_count, tag_to_idx, word_to_idx, init_prob, obs_simple)\n",
    "print(f'simple sample: {simple_sentence}')\n",
    "print(f'output: {path}')\n",
    "\n",
    "print()\n",
    "path = post.viterbi(trans_mx, emiss_mx, tag_count, tag_to_idx, word_to_idx, init_prob, obs_complex)\n",
    "print(f'complex sample: {complex_sentence}')\n",
    "print(f'output: {path}')"
   ]
  }
 ],
 "metadata": {
  "kernelspec": {
   "display_name": "Python 3",
   "language": "python",
   "name": "python3"
  },
  "language_info": {
   "codemirror_mode": {
    "name": "ipython",
    "version": 3
   },
   "file_extension": ".py",
   "mimetype": "text/x-python",
   "name": "python",
   "nbconvert_exporter": "python",
   "pygments_lexer": "ipython3",
   "version": "3.9.6"
  }
 },
 "nbformat": 4,
 "nbformat_minor": 2
}
